{
 "cells": [
  {
   "cell_type": "markdown",
   "id": "1988f70b-456d-46e6-8168-bf021d8e17a5",
   "metadata": {},
   "source": [
    "# Introduction to Regex\n",
    "\n",
    "## GOAL\n",
    "\n",
    "Introduce to the library `re` (regexp) and show the main functions and how to apply it to Netflix data. \n",
    "\n",
    "## DESCRIPTION\n",
    "\n",
    "In this workshop, the following functions will be reviewed: \n",
    "\n",
    "* `findall()`\n",
    "* `search()`\n",
    "* `split()`\n",
    "* `sub()`\n",
    "* `span()`\n",
    "* `string()`\n",
    "* `group()`\n",
    "\n",
    "Metacharacters: ` . ^ $ * + ? { } [ ] \\ | ( )`\n",
    "\n",
    "Special Sequences: `\\A` `\\b` `\\d` `\\s`\n",
    "\n",
    "And how to compile the regex expressions to reuse it. \n",
    "\n",
    "More information on that [link](https://www.w3schools.com/python/python_regex.asp)."
   ]
  },
  {
   "cell_type": "code",
   "execution_count": 1,
   "id": "6732696a-230f-480a-a423-8e03a83ea522",
   "metadata": {},
   "outputs": [
    {
     "data": {
      "text/html": [
       "<div>\n",
       "<style scoped>\n",
       "    .dataframe tbody tr th:only-of-type {\n",
       "        vertical-align: middle;\n",
       "    }\n",
       "\n",
       "    .dataframe tbody tr th {\n",
       "        vertical-align: top;\n",
       "    }\n",
       "\n",
       "    .dataframe thead th {\n",
       "        text-align: right;\n",
       "    }\n",
       "</style>\n",
       "<table border=\"1\" class=\"dataframe\">\n",
       "  <thead>\n",
       "    <tr style=\"text-align: right;\">\n",
       "      <th></th>\n",
       "      <th>type</th>\n",
       "      <th>title</th>\n",
       "      <th>director</th>\n",
       "      <th>cast</th>\n",
       "      <th>country</th>\n",
       "      <th>date_added</th>\n",
       "      <th>release_year</th>\n",
       "      <th>rating</th>\n",
       "      <th>duration</th>\n",
       "      <th>listed_in</th>\n",
       "      <th>description</th>\n",
       "    </tr>\n",
       "  </thead>\n",
       "  <tbody>\n",
       "    <tr>\n",
       "      <th>0</th>\n",
       "      <td>TV Show</td>\n",
       "      <td>3%</td>\n",
       "      <td>NaN</td>\n",
       "      <td>João Miguel, Bianca Comparato, Michel Gomes, R...</td>\n",
       "      <td>Brazil</td>\n",
       "      <td>August 14, 2020</td>\n",
       "      <td>2020</td>\n",
       "      <td>TV-MA</td>\n",
       "      <td>4 Seasons</td>\n",
       "      <td>International TV Shows, TV Dramas, TV Sci-Fi &amp;...</td>\n",
       "      <td>In a future where the elite inhabit an island ...</td>\n",
       "    </tr>\n",
       "    <tr>\n",
       "      <th>1</th>\n",
       "      <td>Movie</td>\n",
       "      <td>7:19</td>\n",
       "      <td>Jorge Michel Grau</td>\n",
       "      <td>Demián Bichir, Héctor Bonilla, Oscar Serrano, ...</td>\n",
       "      <td>Mexico</td>\n",
       "      <td>December 23, 2016</td>\n",
       "      <td>2016</td>\n",
       "      <td>TV-MA</td>\n",
       "      <td>93 min</td>\n",
       "      <td>Dramas, International Movies</td>\n",
       "      <td>After a devastating earthquake hits Mexico Cit...</td>\n",
       "    </tr>\n",
       "    <tr>\n",
       "      <th>2</th>\n",
       "      <td>Movie</td>\n",
       "      <td>23:59</td>\n",
       "      <td>Gilbert Chan</td>\n",
       "      <td>Tedd Chan, Stella Chung, Henley Hii, Lawrence ...</td>\n",
       "      <td>Singapore</td>\n",
       "      <td>December 20, 2018</td>\n",
       "      <td>2011</td>\n",
       "      <td>R</td>\n",
       "      <td>78 min</td>\n",
       "      <td>Horror Movies, International Movies</td>\n",
       "      <td>When an army recruit is found dead, his fellow...</td>\n",
       "    </tr>\n",
       "    <tr>\n",
       "      <th>3</th>\n",
       "      <td>Movie</td>\n",
       "      <td>9</td>\n",
       "      <td>Shane Acker</td>\n",
       "      <td>Elijah Wood, John C. Reilly, Jennifer Connelly...</td>\n",
       "      <td>United States</td>\n",
       "      <td>November 16, 2017</td>\n",
       "      <td>2009</td>\n",
       "      <td>PG-13</td>\n",
       "      <td>80 min</td>\n",
       "      <td>Action &amp; Adventure, Independent Movies, Sci-Fi...</td>\n",
       "      <td>In a postapocalyptic world, rag-doll robots hi...</td>\n",
       "    </tr>\n",
       "    <tr>\n",
       "      <th>4</th>\n",
       "      <td>Movie</td>\n",
       "      <td>21</td>\n",
       "      <td>Robert Luketic</td>\n",
       "      <td>Jim Sturgess, Kevin Spacey, Kate Bosworth, Aar...</td>\n",
       "      <td>United States</td>\n",
       "      <td>January 1, 2020</td>\n",
       "      <td>2008</td>\n",
       "      <td>PG-13</td>\n",
       "      <td>123 min</td>\n",
       "      <td>Dramas</td>\n",
       "      <td>A brilliant group of students become card-coun...</td>\n",
       "    </tr>\n",
       "  </tbody>\n",
       "</table>\n",
       "</div>"
      ],
      "text/plain": [
       "      type  title           director  \\\n",
       "0  TV Show     3%                NaN   \n",
       "1    Movie   7:19  Jorge Michel Grau   \n",
       "2    Movie  23:59       Gilbert Chan   \n",
       "3    Movie      9        Shane Acker   \n",
       "4    Movie     21     Robert Luketic   \n",
       "\n",
       "                                                cast        country  \\\n",
       "0  João Miguel, Bianca Comparato, Michel Gomes, R...         Brazil   \n",
       "1  Demián Bichir, Héctor Bonilla, Oscar Serrano, ...         Mexico   \n",
       "2  Tedd Chan, Stella Chung, Henley Hii, Lawrence ...      Singapore   \n",
       "3  Elijah Wood, John C. Reilly, Jennifer Connelly...  United States   \n",
       "4  Jim Sturgess, Kevin Spacey, Kate Bosworth, Aar...  United States   \n",
       "\n",
       "          date_added  release_year rating   duration  \\\n",
       "0    August 14, 2020          2020  TV-MA  4 Seasons   \n",
       "1  December 23, 2016          2016  TV-MA     93 min   \n",
       "2  December 20, 2018          2011      R     78 min   \n",
       "3  November 16, 2017          2009  PG-13     80 min   \n",
       "4    January 1, 2020          2008  PG-13    123 min   \n",
       "\n",
       "                                           listed_in  \\\n",
       "0  International TV Shows, TV Dramas, TV Sci-Fi &...   \n",
       "1                       Dramas, International Movies   \n",
       "2                Horror Movies, International Movies   \n",
       "3  Action & Adventure, Independent Movies, Sci-Fi...   \n",
       "4                                             Dramas   \n",
       "\n",
       "                                         description  \n",
       "0  In a future where the elite inhabit an island ...  \n",
       "1  After a devastating earthquake hits Mexico Cit...  \n",
       "2  When an army recruit is found dead, his fellow...  \n",
       "3  In a postapocalyptic world, rag-doll robots hi...  \n",
       "4  A brilliant group of students become card-coun...  "
      ]
     },
     "execution_count": 1,
     "metadata": {},
     "output_type": "execute_result"
    }
   ],
   "source": [
    "import re\n",
    "import pandas as pd\n",
    "\n",
    "netflix = pd.read_csv('C:/Users/david/WBSCodingSchool/SecondWeek/NetflixWorkshop/netflix_csv/netflix-titles.csv')\n",
    "netflix.head()"
   ]
  },
  {
   "cell_type": "code",
   "execution_count": 2,
   "id": "288405b2-9c58-4c76-8a86-f06c8bf652d2",
   "metadata": {},
   "outputs": [
    {
     "data": {
      "text/plain": [
       "'A missing child sets four families on a frantic hunt for answers as they unearth a mind-bending mystery that spans three generations.'"
      ]
     },
     "execution_count": 2,
     "metadata": {},
     "output_type": "execute_result"
    }
   ],
   "source": [
    "# extract an specific description\n",
    "dark_descr = netflix.query('title == \"Dark\"')['description'].values[0]\n",
    "\n",
    "dark_descr"
   ]
  },
  {
   "cell_type": "markdown",
   "id": "67b0b405-6abd-4b92-9955-daa0884803c9",
   "metadata": {},
   "source": [
    "### `findall`\n",
    "\n",
    "Returns a list containing all matches"
   ]
  },
  {
   "cell_type": "code",
   "execution_count": 3,
   "id": "61772e96-158f-4dfa-8f10-2dbdd279a3c7",
   "metadata": {},
   "outputs": [
    {
     "data": {
      "text/plain": [
       "['a', 'a', 'a', 'a', 'a', 'a', 'a', 'a', 'a', 'a']"
      ]
     },
     "execution_count": 3,
     "metadata": {},
     "output_type": "execute_result"
    }
   ],
   "source": [
    "# return all ocurrencies appearing on a string\n",
    "re.findall('a', dark_descr)"
   ]
  },
  {
   "cell_type": "markdown",
   "id": "b23fe4ae-1942-4516-957b-86cc70183c0a",
   "metadata": {},
   "source": [
    "### `search`\n",
    "\n",
    "Returns a Match object if there is a match anywhere in the string. If there is more than one match, only the first occurrence of the match will be returned.\n",
    "\n",
    "The mathch objects have the following methods: \n",
    "- `.span()` returns a tuple containing the start-, and end positions of the match.\n",
    "- `.string` returns the string passed into the function\n",
    "- `.group()` returns the part of the string where there was a match\n"
   ]
  },
  {
   "cell_type": "code",
   "execution_count": 4,
   "id": "6845b115-f542-430c-a63f-5dc4e7605754",
   "metadata": {},
   "outputs": [
    {
     "data": {
      "text/plain": [
       "'A missing child sets four families on a frantic hunt for answers as they unearth a mind-bending mystery that spans three generations.'"
      ]
     },
     "execution_count": 4,
     "metadata": {},
     "output_type": "execute_result"
    }
   ],
   "source": [
    "dark_descr"
   ]
  },
  {
   "cell_type": "code",
   "execution_count": 5,
   "id": "e71eb694-57ec-4d77-a1d1-346122fb1b3e",
   "metadata": {},
   "outputs": [],
   "source": [
    "match_obj = re.search('mystery', dark_descr)"
   ]
  },
  {
   "cell_type": "code",
   "execution_count": 6,
   "id": "04c624cb-d49e-4885-8dc0-de6b83b05530",
   "metadata": {},
   "outputs": [
    {
     "data": {
      "text/plain": [
       "'A missing child sets four families on a frantic hunt for answers as they unearth a mind-bending mystery that spans three generations.'"
      ]
     },
     "execution_count": 6,
     "metadata": {},
     "output_type": "execute_result"
    }
   ],
   "source": [
    "match_obj.string"
   ]
  },
  {
   "cell_type": "code",
   "execution_count": 7,
   "id": "9e30a44c-133a-40e6-aa23-266fea4bcbee",
   "metadata": {},
   "outputs": [
    {
     "data": {
      "text/plain": [
       "'mystery'"
      ]
     },
     "execution_count": 7,
     "metadata": {},
     "output_type": "execute_result"
    }
   ],
   "source": [
    "match_obj.group()"
   ]
  },
  {
   "cell_type": "code",
   "execution_count": 8,
   "id": "3c9e4c94-0108-4f27-a0cd-19d130389bf8",
   "metadata": {},
   "outputs": [
    {
     "data": {
      "text/plain": [
       "(96, 103)"
      ]
     },
     "execution_count": 8,
     "metadata": {},
     "output_type": "execute_result"
    }
   ],
   "source": [
    "match_obj.span()"
   ]
  },
  {
   "cell_type": "markdown",
   "id": "520133bb-5ae7-461c-8eb4-b84e3a217f86",
   "metadata": {},
   "source": [
    "### `split`\n",
    "Returns a list where the string has been split at each match"
   ]
  },
  {
   "cell_type": "code",
   "execution_count": 9,
   "id": "2a653d38-1bbf-4ea4-971c-89e312558b18",
   "metadata": {},
   "outputs": [
    {
     "data": {
      "text/plain": [
       "['A missing child sets four families on',\n",
       " 'frantic hunt for answers as they unearth',\n",
       " 'mind-bending mystery that spans three generations.']"
      ]
     },
     "execution_count": 9,
     "metadata": {},
     "output_type": "execute_result"
    }
   ],
   "source": [
    "dark_descr.split(' a ') # a is removed from the list"
   ]
  },
  {
   "cell_type": "markdown",
   "id": "e2a0bc1a-cc80-4248-a86b-f9b7747e50d0",
   "metadata": {},
   "source": [
    "### `sub`\n",
    "\n",
    "Replaces one or many matches with a string"
   ]
  },
  {
   "cell_type": "code",
   "execution_count": 10,
   "id": "2e3f6263-9aec-47e0-af0b-e6a779ff3d5d",
   "metadata": {},
   "outputs": [
    {
     "name": "stdout",
     "output_type": "stream",
     "text": [
      "A missing spoon sets four families on a frantic hunt for answers as they unearth a mind-bending mystery that spans three generations.\n"
     ]
    }
   ],
   "source": [
    "dark_descr = re.sub(\"child\", \"spoon\", dark_descr)\n",
    "print(dark_descr)"
   ]
  },
  {
   "cell_type": "code",
   "execution_count": 11,
   "id": "5813b1c5-f7bf-4427-9bfe-5b6a99017f8a",
   "metadata": {},
   "outputs": [],
   "source": [
    "## CHALLENGE!"
   ]
  },
  {
   "cell_type": "markdown",
   "id": "ea16236b-ac31-41cd-aa04-18c86a509c07",
   "metadata": {},
   "source": [
    "### METACHARACTERS\n",
    "\n",
    "\n",
    "Some characters are special metacharacters, and don’t match themselves. Instead, they signal that some out-of-the-ordinary thing should be matched, or they affect other portions of the RE by repeating them or changing their meaning.\n",
    "\n",
    "` . ^ $ * + ? { } [ ] \\ | ( )`\n",
    "\n",
    " #### `[]` means set of characters:\n",
    " \n",
    " - `[abc]` will match any of the characters a, b, or c\n",
    " - `[a-c]` will do the same\n",
    " - `[a-z]` will match any lowercase letter"
   ]
  },
  {
   "cell_type": "code",
   "execution_count": 12,
   "id": "380fd923-4799-4733-afb3-c05c045dab8e",
   "metadata": {},
   "outputs": [],
   "source": [
    "alphanumeric = \"4298fsfsv012rvv21v9\""
   ]
  },
  {
   "cell_type": "code",
   "execution_count": 13,
   "id": "a82b4535-38cd-4f44-9a00-f1b7dc5170c6",
   "metadata": {},
   "outputs": [
    {
     "data": {
      "text/plain": [
       "['f', 's', 'f', 's', 'v', 'r', 'v', 'v', 'v']"
      ]
     },
     "execution_count": 13,
     "metadata": {},
     "output_type": "execute_result"
    }
   ],
   "source": [
    "re.findall(r\"[a-z]\", alphanumeric)"
   ]
  },
  {
   "cell_type": "markdown",
   "id": "5f13e31c-7041-438e-9d04-8ef74b0337ac",
   "metadata": {},
   "source": [
    "`\\` Can help us to scape special characters "
   ]
  },
  {
   "cell_type": "code",
   "execution_count": 14,
   "id": "83197afe-071c-4a14-9252-73b61c016071",
   "metadata": {},
   "outputs": [
    {
     "name": "stdout",
     "output_type": "stream",
     "text": [
      "4298fsfsv012rvv21v9[a-z]\n"
     ]
    },
    {
     "data": {
      "text/plain": [
       "['[a-z]']"
      ]
     },
     "execution_count": 14,
     "metadata": {},
     "output_type": "execute_result"
    }
   ],
   "source": [
    "alphanumeric_with_special = alphanumeric + \"[a-z]\"\n",
    "print(alphanumeric_with_special)\n",
    "# CALLENGE: use \\ to escape the square brakets\n",
    "re.findall(r\"\\[a-z]\", alphanumeric_with_special)"
   ]
  },
  {
   "cell_type": "markdown",
   "id": "b361042c-11f0-4a4d-a2af-c87bbb44a3e5",
   "metadata": {},
   "source": [
    "#### Some special sequences:\n",
    "\n",
    "- `\\A`- Returns a match if the specified characters are at the beginning of the string\n",
    "- `\\b` - Returns a match where the specified characters are at the beginning or at the end of a word\n",
    "- `\\d` - \tReturns a match where the string contains digits (numbers from 0-9) (`\\D` for where the string DOES NOT contain digits)\n",
    "- `\\s`- Returns a match where the string contains a white space character (`\\S` for where the string DOES NOT contain a white space)"
   ]
  },
  {
   "cell_type": "code",
   "execution_count": 15,
   "id": "6387d1fd-c5b2-4078-8ba6-c982989beceb",
   "metadata": {},
   "outputs": [
    {
     "data": {
      "text/plain": [
       "'A missing spoon sets four families on a frantic hunt for answers as they unearth a mind-bending mystery that spans three generations.'"
      ]
     },
     "execution_count": 15,
     "metadata": {},
     "output_type": "execute_result"
    }
   ],
   "source": [
    "dark_descr"
   ]
  },
  {
   "cell_type": "code",
   "execution_count": 16,
   "id": "607b6dd2-c9a8-48b1-a526-53fec1f149de",
   "metadata": {},
   "outputs": [
    {
     "data": {
      "text/plain": [
       "['sp', 'sp']"
      ]
     },
     "execution_count": 16,
     "metadata": {},
     "output_type": "execute_result"
    }
   ],
   "source": [
    "# CALLENGE: use a special sequence to capitalize the \"dark_descr\" string\n",
    "re.findall(r'\\b(sp)', dark_descr)"
   ]
  },
  {
   "cell_type": "code",
   "execution_count": 17,
   "id": "c30c37f5-9572-4975-a63d-486d49ea493c",
   "metadata": {},
   "outputs": [
    {
     "data": {
      "text/plain": [
       "['A missing spoon sets four families on',\n",
       " 'frantic hunt for answers as they unearth',\n",
       " 'mind-bending mystery that spans three generations.']"
      ]
     },
     "execution_count": 17,
     "metadata": {},
     "output_type": "execute_result"
    }
   ],
   "source": [
    "dark_descr_split = dark_descr.split(' a ')\n",
    "dark_descr_split"
   ]
  },
  {
   "cell_type": "code",
   "execution_count": 18,
   "id": "3ea37421-ba5e-439f-b863-ee6211d8e3b7",
   "metadata": {},
   "outputs": [
    {
     "data": {
      "text/plain": [
       "['f']"
      ]
     },
     "execution_count": 18,
     "metadata": {},
     "output_type": "execute_result"
    }
   ],
   "source": [
    "# from the sentance in the middle, only return f if the first word starts with it\n",
    "re.findall(r\"\\A(f)\", dark_descr_split[1])"
   ]
  },
  {
   "cell_type": "code",
   "execution_count": 19,
   "id": "29fedcf0-cec1-4f61-8bbc-247d59130c67",
   "metadata": {},
   "outputs": [
    {
     "data": {
      "text/plain": [
       "['4']"
      ]
     },
     "execution_count": 19,
     "metadata": {},
     "output_type": "execute_result"
    }
   ],
   "source": [
    "# replace the \"four\" string for 4\n",
    "dark_descr_split[0] = dark_descr_split[0].replace('four', '4')\n",
    "# find all possible numbers\n",
    "re.findall(r\"\\d\", dark_descr_split[0])"
   ]
  },
  {
   "cell_type": "code",
   "execution_count": 20,
   "id": "58900f8d-5290-4947-8bb5-829bfa2e3ba9",
   "metadata": {},
   "outputs": [
    {
     "name": "stdout",
     "output_type": "stream",
     "text": [
      "A missing spoon sets four families on a frantic hunt for answers as they unearth a mind-bending mystery that spans three generations.\n"
     ]
    },
    {
     "data": {
      "text/plain": [
       "[' on ']"
      ]
     },
     "execution_count": 20,
     "metadata": {},
     "output_type": "execute_result"
    }
   ],
   "source": [
    "# if I want to find the word \"on\"\n",
    "print(dark_descr)\n",
    "re.findall(r\"\\so\\S\\s\",dark_descr)"
   ]
  },
  {
   "cell_type": "markdown",
   "id": "257a851e-e1d1-451e-98ed-06f1bb5865e1",
   "metadata": {},
   "source": [
    "### `.`\tAny character (except newline character)"
   ]
  },
  {
   "cell_type": "code",
   "execution_count": 21,
   "id": "e78a055d-1599-4c8e-94ba-763af745db6f",
   "metadata": {},
   "outputs": [
    {
     "name": "stdout",
     "output_type": "stream",
     "text": [
      "A missing spoon sets four families on a frantic hunt for answers as they unearth a mind-bending mystery that spans three generations.\n"
     ]
    },
    {
     "data": {
      "text/plain": [
       "['po', 'fo', ' o', 'fo', 'io']"
      ]
     },
     "execution_count": 21,
     "metadata": {},
     "output_type": "execute_result"
    }
   ],
   "source": [
    "print(dark_descr)\n",
    "re.findall(r\".o\", dark_descr)"
   ]
  },
  {
   "cell_type": "markdown",
   "id": "6546e8da-de82-46cd-97b2-d6a52227393b",
   "metadata": {},
   "source": [
    "### `+` One or more occurrences"
   ]
  },
  {
   "cell_type": "code",
   "execution_count": 22,
   "id": "31bd2be2-9708-469f-ae33-32d31697004e",
   "metadata": {},
   "outputs": [
    {
     "name": "stdout",
     "output_type": "stream",
     "text": [
      "A missing spoon sets four families on a frantic hunt for answers as they unearth a mind-bending mystery that spans three generations.\n",
      "['oo', 'o', 'o', 'o', 'o']\n",
      "A missing sp__n sets f__ur families __n a frantic hunt f__r answers as they unearth a mind-bending mystery that spans three generati__ns.\n"
     ]
    }
   ],
   "source": [
    "# use re.sub() together with + to fix the occurrance of too many whitespaces\n",
    "print(dark_descr)\n",
    "# show where is happining\n",
    "print(re.findall(\"o+\", dark_descr))\n",
    "# another way to visualize it\n",
    "print(re.sub(\"o+\", \"__\", dark_descr))"
   ]
  },
  {
   "cell_type": "markdown",
   "id": "59857e98-b01d-453d-9d1e-a374906bb70e",
   "metadata": {},
   "source": [
    "### `{}`- Exactly the specified number of occurrences"
   ]
  },
  {
   "cell_type": "code",
   "execution_count": 23,
   "id": "1dca9ad8-159a-4d1a-b256-e4a3e101a09b",
   "metadata": {},
   "outputs": [
    {
     "name": "stdout",
     "output_type": "stream",
     "text": [
      "A missing spoon sets four families on a frantic hunt for answers as they unearth a mind-bending mystery that spans three generations.\n",
      "['oo']\n",
      "A missing sp__n sets four families on a frantic hunt for answers as they unearth a mind-bending mystery that spans three generations.\n"
     ]
    }
   ],
   "source": [
    "# use re.sub() together with + to fix the occurrance of too many whitespaces\n",
    "print(dark_descr)\n",
    "# show where is happining\n",
    "print(re.findall(\"o{2}\", dark_descr))\n",
    "# another way to visualize it\n",
    "print(re.sub(\"o{2}\", \"__\", dark_descr))"
   ]
  },
  {
   "cell_type": "markdown",
   "id": "d8044819-1b2e-400d-a80a-3acff2670307",
   "metadata": {},
   "source": [
    "### `^` Starts with"
   ]
  },
  {
   "cell_type": "code",
   "execution_count": 24,
   "id": "b4534391-1e89-49fe-b55b-68f5879396c5",
   "metadata": {},
   "outputs": [
    {
     "name": "stdout",
     "output_type": "stream",
     "text": [
      "['A missing spoon sets 4 families on', 'frantic hunt for answers as they unearth', 'mind-bending mystery that spans three generations.']\n"
     ]
    },
    {
     "data": {
      "text/plain": [
       "['f']"
      ]
     },
     "execution_count": 24,
     "metadata": {},
     "output_type": "execute_result"
    }
   ],
   "source": [
    "print(dark_descr_split)\n",
    "re.findall(r\"^f\", dark_descr_split[1])"
   ]
  },
  {
   "cell_type": "markdown",
   "id": "23ce3cd9-0af6-4577-b33b-0fe92afdc99f",
   "metadata": {},
   "source": [
    "#### How to apply it on the whole dataframe?"
   ]
  },
  {
   "cell_type": "code",
   "execution_count": 25,
   "id": "b96dc393-2dd0-4051-ac9c-5e0cd20978bc",
   "metadata": {},
   "outputs": [
    {
     "data": {
      "text/html": [
       "<div>\n",
       "<style scoped>\n",
       "    .dataframe tbody tr th:only-of-type {\n",
       "        vertical-align: middle;\n",
       "    }\n",
       "\n",
       "    .dataframe tbody tr th {\n",
       "        vertical-align: top;\n",
       "    }\n",
       "\n",
       "    .dataframe thead th {\n",
       "        text-align: right;\n",
       "    }\n",
       "</style>\n",
       "<table border=\"1\" class=\"dataframe\">\n",
       "  <thead>\n",
       "    <tr style=\"text-align: right;\">\n",
       "      <th></th>\n",
       "      <th>type</th>\n",
       "      <th>title</th>\n",
       "      <th>director</th>\n",
       "      <th>cast</th>\n",
       "      <th>country</th>\n",
       "      <th>date_added</th>\n",
       "      <th>release_year</th>\n",
       "      <th>rating</th>\n",
       "      <th>duration</th>\n",
       "      <th>listed_in</th>\n",
       "      <th>description</th>\n",
       "    </tr>\n",
       "  </thead>\n",
       "  <tbody>\n",
       "    <tr>\n",
       "      <th>16</th>\n",
       "      <td>TV Show</td>\n",
       "      <td>Feb-09</td>\n",
       "      <td>NaN</td>\n",
       "      <td>Shahd El Yaseen, Shaila Sabt, Hala, Hanadi Al-...</td>\n",
       "      <td>NaN</td>\n",
       "      <td>March 20, 2019</td>\n",
       "      <td>2018</td>\n",
       "      <td>TV-14</td>\n",
       "      <td>1 Season</td>\n",
       "      <td>International TV Shows, TV Dramas</td>\n",
       "      <td>As a psychology professor faces Alzheimer's, h...</td>\n",
       "    </tr>\n",
       "    <tr>\n",
       "      <th>2083</th>\n",
       "      <td>TV Show</td>\n",
       "      <td>F is for Family</td>\n",
       "      <td>NaN</td>\n",
       "      <td>Bill Burr, Laura Dern, Justin Long, Debi Derry...</td>\n",
       "      <td>United States, France, Canada</td>\n",
       "      <td>June 12, 2020</td>\n",
       "      <td>2020</td>\n",
       "      <td>TV-MA</td>\n",
       "      <td>4 Seasons</td>\n",
       "      <td>TV Comedies</td>\n",
       "      <td>Follow the Murphy family back to the 1970s, wh...</td>\n",
       "    </tr>\n",
       "    <tr>\n",
       "      <th>2084</th>\n",
       "      <td>Movie</td>\n",
       "      <td>F the Prom</td>\n",
       "      <td>Benny Fine</td>\n",
       "      <td>Cameron Palatas, Richard Karn, Cheri Oteri, Da...</td>\n",
       "      <td>United States</td>\n",
       "      <td>March 5, 2018</td>\n",
       "      <td>2017</td>\n",
       "      <td>TV-MA</td>\n",
       "      <td>92 min</td>\n",
       "      <td>Comedies, Romantic Movies</td>\n",
       "      <td>Maddy and Cole were inseparable before high sc...</td>\n",
       "    </tr>\n",
       "  </tbody>\n",
       "</table>\n",
       "</div>"
      ],
      "text/plain": [
       "         type            title    director  \\\n",
       "16    TV Show           Feb-09         NaN   \n",
       "2083  TV Show  F is for Family         NaN   \n",
       "2084    Movie       F the Prom  Benny Fine   \n",
       "\n",
       "                                                   cast  \\\n",
       "16    Shahd El Yaseen, Shaila Sabt, Hala, Hanadi Al-...   \n",
       "2083  Bill Burr, Laura Dern, Justin Long, Debi Derry...   \n",
       "2084  Cameron Palatas, Richard Karn, Cheri Oteri, Da...   \n",
       "\n",
       "                            country      date_added  release_year rating  \\\n",
       "16                              NaN  March 20, 2019          2018  TV-14   \n",
       "2083  United States, France, Canada   June 12, 2020          2020  TV-MA   \n",
       "2084                  United States   March 5, 2018          2017  TV-MA   \n",
       "\n",
       "       duration                          listed_in  \\\n",
       "16     1 Season  International TV Shows, TV Dramas   \n",
       "2083  4 Seasons                        TV Comedies   \n",
       "2084     92 min          Comedies, Romantic Movies   \n",
       "\n",
       "                                            description  \n",
       "16    As a psychology professor faces Alzheimer's, h...  \n",
       "2083  Follow the Murphy family back to the 1970s, wh...  \n",
       "2084  Maddy and Cole were inseparable before high sc...  "
      ]
     },
     "execution_count": 25,
     "metadata": {},
     "output_type": "execute_result"
    }
   ],
   "source": [
    "# Looking for all the titles on Netflix dataset which starts with F\n",
    "netflix.loc[netflix['title'].str[0] == 'F',:].head(3)"
   ]
  },
  {
   "cell_type": "code",
   "execution_count": 26,
   "id": "6f7cdf99-6a97-4f32-a559-f616472e8b8d",
   "metadata": {},
   "outputs": [
    {
     "data": {
      "text/html": [
       "<div>\n",
       "<style scoped>\n",
       "    .dataframe tbody tr th:only-of-type {\n",
       "        vertical-align: middle;\n",
       "    }\n",
       "\n",
       "    .dataframe tbody tr th {\n",
       "        vertical-align: top;\n",
       "    }\n",
       "\n",
       "    .dataframe thead th {\n",
       "        text-align: right;\n",
       "    }\n",
       "</style>\n",
       "<table border=\"1\" class=\"dataframe\">\n",
       "  <thead>\n",
       "    <tr style=\"text-align: right;\">\n",
       "      <th></th>\n",
       "      <th>type</th>\n",
       "      <th>title</th>\n",
       "      <th>director</th>\n",
       "      <th>cast</th>\n",
       "      <th>country</th>\n",
       "      <th>date_added</th>\n",
       "      <th>release_year</th>\n",
       "      <th>rating</th>\n",
       "      <th>duration</th>\n",
       "      <th>listed_in</th>\n",
       "      <th>description</th>\n",
       "    </tr>\n",
       "  </thead>\n",
       "  <tbody>\n",
       "    <tr>\n",
       "      <th>16</th>\n",
       "      <td>TV Show</td>\n",
       "      <td>Feb-09</td>\n",
       "      <td>NaN</td>\n",
       "      <td>Shahd El Yaseen, Shaila Sabt, Hala, Hanadi Al-...</td>\n",
       "      <td>NaN</td>\n",
       "      <td>March 20, 2019</td>\n",
       "      <td>2018</td>\n",
       "      <td>TV-14</td>\n",
       "      <td>1 Season</td>\n",
       "      <td>International TV Shows, TV Dramas</td>\n",
       "      <td>As a psychology professor faces Alzheimer's, h...</td>\n",
       "    </tr>\n",
       "    <tr>\n",
       "      <th>2083</th>\n",
       "      <td>TV Show</td>\n",
       "      <td>F is for Family</td>\n",
       "      <td>NaN</td>\n",
       "      <td>Bill Burr, Laura Dern, Justin Long, Debi Derry...</td>\n",
       "      <td>United States, France, Canada</td>\n",
       "      <td>June 12, 2020</td>\n",
       "      <td>2020</td>\n",
       "      <td>TV-MA</td>\n",
       "      <td>4 Seasons</td>\n",
       "      <td>TV Comedies</td>\n",
       "      <td>Follow the Murphy family back to the 1970s, wh...</td>\n",
       "    </tr>\n",
       "    <tr>\n",
       "      <th>2084</th>\n",
       "      <td>Movie</td>\n",
       "      <td>F the Prom</td>\n",
       "      <td>Benny Fine</td>\n",
       "      <td>Cameron Palatas, Richard Karn, Cheri Oteri, Da...</td>\n",
       "      <td>United States</td>\n",
       "      <td>March 5, 2018</td>\n",
       "      <td>2017</td>\n",
       "      <td>TV-MA</td>\n",
       "      <td>92 min</td>\n",
       "      <td>Comedies, Romantic Movies</td>\n",
       "      <td>Maddy and Cole were inseparable before high sc...</td>\n",
       "    </tr>\n",
       "  </tbody>\n",
       "</table>\n",
       "</div>"
      ],
      "text/plain": [
       "         type            title    director  \\\n",
       "16    TV Show           Feb-09         NaN   \n",
       "2083  TV Show  F is for Family         NaN   \n",
       "2084    Movie       F the Prom  Benny Fine   \n",
       "\n",
       "                                                   cast  \\\n",
       "16    Shahd El Yaseen, Shaila Sabt, Hala, Hanadi Al-...   \n",
       "2083  Bill Burr, Laura Dern, Justin Long, Debi Derry...   \n",
       "2084  Cameron Palatas, Richard Karn, Cheri Oteri, Da...   \n",
       "\n",
       "                            country      date_added  release_year rating  \\\n",
       "16                              NaN  March 20, 2019          2018  TV-14   \n",
       "2083  United States, France, Canada   June 12, 2020          2020  TV-MA   \n",
       "2084                  United States   March 5, 2018          2017  TV-MA   \n",
       "\n",
       "       duration                          listed_in  \\\n",
       "16     1 Season  International TV Shows, TV Dramas   \n",
       "2083  4 Seasons                        TV Comedies   \n",
       "2084     92 min          Comedies, Romantic Movies   \n",
       "\n",
       "                                            description  \n",
       "16    As a psychology professor faces Alzheimer's, h...  \n",
       "2083  Follow the Murphy family back to the 1970s, wh...  \n",
       "2084  Maddy and Cole were inseparable before high sc...  "
      ]
     },
     "execution_count": 26,
     "metadata": {},
     "output_type": "execute_result"
    }
   ],
   "source": [
    "# Or another way will be\n",
    "netflix.loc[netflix['title'].str.count(r'^F') == 1].head(3)"
   ]
  },
  {
   "cell_type": "code",
   "execution_count": 27,
   "id": "1ddb289a-6013-4443-8180-3d0a5073a0ec",
   "metadata": {},
   "outputs": [],
   "source": [
    "# Learn more how to apply regexp and pandas: \n",
    "# https://kanoki.org/2019/11/12/how-to-use-regex-in-pandas/"
   ]
  },
  {
   "cell_type": "markdown",
   "id": "46b60215-3df6-4aa5-b01f-3a6e7503abf3",
   "metadata": {},
   "source": [
    "### `*`\tZero or more occurences"
   ]
  },
  {
   "cell_type": "code",
   "execution_count": 28,
   "id": "3d8d1ee5-a787-4dd8-9e1e-2d00e41138d6",
   "metadata": {},
   "outputs": [],
   "source": [
    "similar_words = [\"hey\", \"hay\", \"how\", \"h i j k\", \"h\", \"ha\", \"oops\"]"
   ]
  },
  {
   "cell_type": "code",
   "execution_count": 29,
   "id": "83fec272-00b5-41a2-b2df-24fbb91b5e02",
   "metadata": {},
   "outputs": [
    {
     "name": "stdout",
     "output_type": "stream",
     "text": [
      "['hey']\n",
      "['hay']\n",
      "['how']\n",
      "['h i j k']\n",
      "['h']\n",
      "['ha']\n",
      "[]\n"
     ]
    }
   ],
   "source": [
    "# use \".\" to return all words starting with \"h\"\n",
    "for word in similar_words:\n",
    "    print(re.findall(\"h.*\", word))"
   ]
  },
  {
   "cell_type": "code",
   "execution_count": 30,
   "id": "400a7cee-5a8a-4a53-8f51-700f4e85433a",
   "metadata": {},
   "outputs": [
    {
     "name": "stdout",
     "output_type": "stream",
     "text": [
      "A missing spoon sets four families on a frantic hunt for answers as they unearth a mind-bending mystery that spans three generations.\n"
     ]
    },
    {
     "data": {
      "text/plain": [
       "['spoon', 'spans']"
      ]
     },
     "execution_count": 30,
     "metadata": {},
     "output_type": "execute_result"
    }
   ],
   "source": [
    "print(dark_descr)\n",
    "re.findall(\"spo*\\S*\", dark_descr)"
   ]
  },
  {
   "cell_type": "code",
   "execution_count": 31,
   "id": "e41d71cb-90b6-40a1-ab7a-2b1558b63978",
   "metadata": {},
   "outputs": [
    {
     "data": {
      "text/plain": [
       "['spoon', 'spans']"
      ]
     },
     "execution_count": 31,
     "metadata": {},
     "output_type": "execute_result"
    }
   ],
   "source": [
    "# Another way to show\n",
    "re.findall(\"spo*\\w+\", dark_descr)\n",
    "# \\w: Returns a match where the string contains any word characters \n",
    "#    (characters from a to Z, digits from 0-9, and the underscore _ character)\n",
    "# +: One or more occurrences"
   ]
  },
  {
   "cell_type": "markdown",
   "id": "bee27a67-969d-476c-80c6-051cfb14bf59",
   "metadata": {},
   "source": [
    "### Examples into dataframes"
   ]
  },
  {
   "cell_type": "code",
   "execution_count": 32,
   "id": "b06ec085-df8f-43c8-b4e8-f2cbb3d36748",
   "metadata": {},
   "outputs": [
    {
     "data": {
      "text/html": [
       "<div>\n",
       "<style scoped>\n",
       "    .dataframe tbody tr th:only-of-type {\n",
       "        vertical-align: middle;\n",
       "    }\n",
       "\n",
       "    .dataframe tbody tr th {\n",
       "        vertical-align: top;\n",
       "    }\n",
       "\n",
       "    .dataframe thead th {\n",
       "        text-align: right;\n",
       "    }\n",
       "</style>\n",
       "<table border=\"1\" class=\"dataframe\">\n",
       "  <thead>\n",
       "    <tr style=\"text-align: right;\">\n",
       "      <th></th>\n",
       "      <th>type</th>\n",
       "      <th>title</th>\n",
       "      <th>director</th>\n",
       "      <th>cast</th>\n",
       "      <th>country</th>\n",
       "      <th>date_added</th>\n",
       "      <th>release_year</th>\n",
       "      <th>rating</th>\n",
       "      <th>duration</th>\n",
       "      <th>listed_in</th>\n",
       "      <th>description</th>\n",
       "    </tr>\n",
       "  </thead>\n",
       "  <tbody>\n",
       "    <tr>\n",
       "      <th>3192</th>\n",
       "      <td>Movie</td>\n",
       "      <td>Joan Didion: The Center Will Not Hold</td>\n",
       "      <td>Griffin Dunne</td>\n",
       "      <td>Joan Didion</td>\n",
       "      <td>United States</td>\n",
       "      <td>October 27, 2017</td>\n",
       "      <td>2017</td>\n",
       "      <td>TV-14</td>\n",
       "      <td>98 min</td>\n",
       "      <td>Documentaries</td>\n",
       "      <td>Literary icon Joan Didion reflects on her rema...</td>\n",
       "    </tr>\n",
       "    <tr>\n",
       "      <th>3193</th>\n",
       "      <td>Movie</td>\n",
       "      <td>Joan Rivers: Don't Start with Me</td>\n",
       "      <td>Scott L. Montoya</td>\n",
       "      <td>Joan Rivers</td>\n",
       "      <td>United States</td>\n",
       "      <td>July 3, 2018</td>\n",
       "      <td>2012</td>\n",
       "      <td>TV-MA</td>\n",
       "      <td>69 min</td>\n",
       "      <td>Stand-Up Comedy</td>\n",
       "      <td>At 78, Joan Rivers has no interest in slowing ...</td>\n",
       "    </tr>\n",
       "    <tr>\n",
       "      <th>3200</th>\n",
       "      <td>Movie</td>\n",
       "      <td>John &amp; Jane</td>\n",
       "      <td>Ashim Ahluwalia</td>\n",
       "      <td>NaN</td>\n",
       "      <td>India</td>\n",
       "      <td>August 15, 2016</td>\n",
       "      <td>2005</td>\n",
       "      <td>TV-14</td>\n",
       "      <td>79 min</td>\n",
       "      <td>Documentaries, International Movies</td>\n",
       "      <td>Truth and fiction blend in this quasi-document...</td>\n",
       "    </tr>\n",
       "  </tbody>\n",
       "</table>\n",
       "</div>"
      ],
      "text/plain": [
       "       type                                  title          director  \\\n",
       "3192  Movie  Joan Didion: The Center Will Not Hold     Griffin Dunne   \n",
       "3193  Movie       Joan Rivers: Don't Start with Me  Scott L. Montoya   \n",
       "3200  Movie                            John & Jane   Ashim Ahluwalia   \n",
       "\n",
       "             cast        country        date_added  release_year rating  \\\n",
       "3192  Joan Didion  United States  October 27, 2017          2017  TV-14   \n",
       "3193  Joan Rivers  United States      July 3, 2018          2012  TV-MA   \n",
       "3200          NaN          India   August 15, 2016          2005  TV-14   \n",
       "\n",
       "     duration                            listed_in  \\\n",
       "3192   98 min                        Documentaries   \n",
       "3193   69 min                      Stand-Up Comedy   \n",
       "3200   79 min  Documentaries, International Movies   \n",
       "\n",
       "                                            description  \n",
       "3192  Literary icon Joan Didion reflects on her rema...  \n",
       "3193  At 78, Joan Rivers has no interest in slowing ...  \n",
       "3200  Truth and fiction blend in this quasi-document...  "
      ]
     },
     "execution_count": 32,
     "metadata": {},
     "output_type": "execute_result"
    }
   ],
   "source": [
    "# I would like to filter all the titles that contains Joan or John\n",
    "netflix.loc[netflix['title'].str.count(r'^(Joan|John)') == 1].head(3)"
   ]
  },
  {
   "cell_type": "code",
   "execution_count": 33,
   "id": "f62ac2f6-bd4b-453e-ba46-c38a475c4676",
   "metadata": {},
   "outputs": [
    {
     "data": {
      "text/html": [
       "<div>\n",
       "<style scoped>\n",
       "    .dataframe tbody tr th:only-of-type {\n",
       "        vertical-align: middle;\n",
       "    }\n",
       "\n",
       "    .dataframe tbody tr th {\n",
       "        vertical-align: top;\n",
       "    }\n",
       "\n",
       "    .dataframe thead th {\n",
       "        text-align: right;\n",
       "    }\n",
       "</style>\n",
       "<table border=\"1\" class=\"dataframe\">\n",
       "  <thead>\n",
       "    <tr style=\"text-align: right;\">\n",
       "      <th></th>\n",
       "      <th>type</th>\n",
       "      <th>title</th>\n",
       "      <th>director</th>\n",
       "      <th>cast</th>\n",
       "      <th>country</th>\n",
       "      <th>date_added</th>\n",
       "      <th>release_year</th>\n",
       "      <th>rating</th>\n",
       "      <th>duration</th>\n",
       "      <th>listed_in</th>\n",
       "      <th>description</th>\n",
       "    </tr>\n",
       "  </thead>\n",
       "  <tbody>\n",
       "    <tr>\n",
       "      <th>3192</th>\n",
       "      <td>Movie</td>\n",
       "      <td>Joan Didion: The Center Will Not Hold</td>\n",
       "      <td>Griffin Dunne</td>\n",
       "      <td>Joan Didion</td>\n",
       "      <td>United States</td>\n",
       "      <td>October 27, 2017</td>\n",
       "      <td>2017</td>\n",
       "      <td>TV-14</td>\n",
       "      <td>98 min</td>\n",
       "      <td>Documentaries</td>\n",
       "      <td>Literary icon Joan Didion reflects on her rema...</td>\n",
       "    </tr>\n",
       "    <tr>\n",
       "      <th>3193</th>\n",
       "      <td>Movie</td>\n",
       "      <td>Joan Rivers: Don't Start with Me</td>\n",
       "      <td>Scott L. Montoya</td>\n",
       "      <td>Joan Rivers</td>\n",
       "      <td>United States</td>\n",
       "      <td>July 3, 2018</td>\n",
       "      <td>2012</td>\n",
       "      <td>TV-MA</td>\n",
       "      <td>69 min</td>\n",
       "      <td>Stand-Up Comedy</td>\n",
       "      <td>At 78, Joan Rivers has no interest in slowing ...</td>\n",
       "    </tr>\n",
       "    <tr>\n",
       "      <th>3200</th>\n",
       "      <td>Movie</td>\n",
       "      <td>John &amp; Jane</td>\n",
       "      <td>Ashim Ahluwalia</td>\n",
       "      <td>NaN</td>\n",
       "      <td>India</td>\n",
       "      <td>August 15, 2016</td>\n",
       "      <td>2005</td>\n",
       "      <td>TV-14</td>\n",
       "      <td>79 min</td>\n",
       "      <td>Documentaries, International Movies</td>\n",
       "      <td>Truth and fiction blend in this quasi-document...</td>\n",
       "    </tr>\n",
       "  </tbody>\n",
       "</table>\n",
       "</div>"
      ],
      "text/plain": [
       "       type                                  title          director  \\\n",
       "3192  Movie  Joan Didion: The Center Will Not Hold     Griffin Dunne   \n",
       "3193  Movie       Joan Rivers: Don't Start with Me  Scott L. Montoya   \n",
       "3200  Movie                            John & Jane   Ashim Ahluwalia   \n",
       "\n",
       "             cast        country        date_added  release_year rating  \\\n",
       "3192  Joan Didion  United States  October 27, 2017          2017  TV-14   \n",
       "3193  Joan Rivers  United States      July 3, 2018          2012  TV-MA   \n",
       "3200          NaN          India   August 15, 2016          2005  TV-14   \n",
       "\n",
       "     duration                            listed_in  \\\n",
       "3192   98 min                        Documentaries   \n",
       "3193   69 min                      Stand-Up Comedy   \n",
       "3200   79 min  Documentaries, International Movies   \n",
       "\n",
       "                                            description  \n",
       "3192  Literary icon Joan Didion reflects on her rema...  \n",
       "3193  At 78, Joan Rivers has no interest in slowing ...  \n",
       "3200  Truth and fiction blend in this quasi-document...  "
      ]
     },
     "execution_count": 33,
     "metadata": {},
     "output_type": "execute_result"
    }
   ],
   "source": [
    "# CHALLENGE: how can you reduce the previous regexp expression?\n",
    "netflix.loc[netflix['title'].str.count(r'^Jo(a|h)n') == 1].head(3)"
   ]
  },
  {
   "cell_type": "code",
   "execution_count": 34,
   "id": "f68d5ac2-6839-49c1-ae2e-e12218afb7e5",
   "metadata": {},
   "outputs": [
    {
     "data": {
      "text/html": [
       "<div>\n",
       "<style scoped>\n",
       "    .dataframe tbody tr th:only-of-type {\n",
       "        vertical-align: middle;\n",
       "    }\n",
       "\n",
       "    .dataframe tbody tr th {\n",
       "        vertical-align: top;\n",
       "    }\n",
       "\n",
       "    .dataframe thead th {\n",
       "        text-align: right;\n",
       "    }\n",
       "</style>\n",
       "<table border=\"1\" class=\"dataframe\">\n",
       "  <thead>\n",
       "    <tr style=\"text-align: right;\">\n",
       "      <th></th>\n",
       "      <th>type</th>\n",
       "      <th>title</th>\n",
       "      <th>director</th>\n",
       "      <th>cast</th>\n",
       "      <th>country</th>\n",
       "      <th>date_added</th>\n",
       "      <th>release_year</th>\n",
       "      <th>rating</th>\n",
       "      <th>duration</th>\n",
       "      <th>listed_in</th>\n",
       "      <th>description</th>\n",
       "    </tr>\n",
       "  </thead>\n",
       "  <tbody>\n",
       "    <tr>\n",
       "      <th>5567</th>\n",
       "      <td>TV Show</td>\n",
       "      <td>Shine On with Reese</td>\n",
       "      <td>NaN</td>\n",
       "      <td>Reese Witherspoon</td>\n",
       "      <td>United States</td>\n",
       "      <td>October 29, 2019</td>\n",
       "      <td>2018</td>\n",
       "      <td>TV-MA</td>\n",
       "      <td>1 Season</td>\n",
       "      <td>Docuseries, Stand-Up Comedy &amp; Talk Shows</td>\n",
       "      <td>In a talk show straight from the heart, actor ...</td>\n",
       "    </tr>\n",
       "  </tbody>\n",
       "</table>\n",
       "</div>"
      ],
      "text/plain": [
       "         type                title director               cast        country  \\\n",
       "5567  TV Show  Shine On with Reese      NaN  Reese Witherspoon  United States   \n",
       "\n",
       "            date_added  release_year rating  duration  \\\n",
       "5567  October 29, 2019          2018  TV-MA  1 Season   \n",
       "\n",
       "                                     listed_in  \\\n",
       "5567  Docuseries, Stand-Up Comedy & Talk Shows   \n",
       "\n",
       "                                            description  \n",
       "5567  In a talk show straight from the heart, actor ...  "
      ]
     },
     "execution_count": 34,
     "metadata": {},
     "output_type": "execute_result"
    }
   ],
   "source": [
    "# Okay, now I would like to filter all the titles with a \"spoon\" on their desrciption\n",
    "netflix.loc[netflix['description'].str.count(r'spoon') >= 1]"
   ]
  },
  {
   "cell_type": "code",
   "execution_count": 35,
   "id": "3b2b15a2-b2df-4ecc-b543-a33999e4a585",
   "metadata": {},
   "outputs": [
    {
     "data": {
      "text/plain": [
       "'In a talk show straight from the heart, actor and producer Reese Witherspoon visits with groundbreaking women to discuss their inspiring journeys.'"
      ]
     },
     "execution_count": 35,
     "metadata": {},
     "output_type": "execute_result"
    }
   ],
   "source": [
    "netflix.loc[netflix['description'].str.count(r'spoon') >= 1 ]['description'].values[0]\n",
    "# spoon are not a popular topic"
   ]
  },
  {
   "cell_type": "code",
   "execution_count": 36,
   "id": "2b115ef7-28ef-4f55-81a5-3b0fa663f519",
   "metadata": {},
   "outputs": [
    {
     "data": {
      "text/plain": [
       "['Dynamic comic DeRay Davis hits the stage like a ball of fire, nailing the finer points of living, dating and handling show business as a black man.',\n",
       " 'In 1987 New York, LGBTQ ball fixture Blanca starts her own house, soon becoming mother to a gifted dancer and a sex worker in love with a yuppie client.']"
      ]
     },
     "execution_count": 36,
     "metadata": {},
     "output_type": "execute_result"
    }
   ],
   "source": [
    "(\n",
    "netflix.loc[\n",
    "        # note that I am using \\b because I want to exclude all words like \"football\"\n",
    "        netflix['description'].str.count(r'\\bball\\s') >= 1\n",
    "    ]\n",
    "    .head(3)['description']\n",
    "    .to_list()\n",
    ")"
   ]
  },
  {
   "cell_type": "markdown",
   "id": "51954201-5f4e-41ba-b129-322d258c230c",
   "metadata": {},
   "source": [
    "### Compile regular expressions"
   ]
  },
  {
   "cell_type": "code",
   "execution_count": 37,
   "id": "9a273947-bf4f-42f0-a33a-5100c069b7fa",
   "metadata": {},
   "outputs": [],
   "source": [
    "pattern = re.compile(r\"\\bball\\s\")"
   ]
  },
  {
   "cell_type": "code",
   "execution_count": 38,
   "id": "566659a9-6ec0-4ec8-afe9-0a1dba47a7cb",
   "metadata": {},
   "outputs": [
    {
     "data": {
      "text/plain": [
       "['Dynamic comic DeRay Davis hits the stage like a ball of fire, nailing the finer points of living, dating and handling show business as a black man.',\n",
       " 'In 1987 New York, LGBTQ ball fixture Blanca starts her own house, soon becoming mother to a gifted dancer and a sex worker in love with a yuppie client.']"
      ]
     },
     "execution_count": 38,
     "metadata": {},
     "output_type": "execute_result"
    }
   ],
   "source": [
    "(\n",
    "netflix.loc[\n",
    "        netflix['description'].str.count(pattern) >= 1\n",
    "    ]\n",
    "    .head(3)['description']\n",
    "    .to_list()\n",
    ")"
   ]
  },
  {
   "cell_type": "markdown",
   "id": "ea979584-99fa-4b41-aaec-f00b99684047",
   "metadata": {},
   "source": [
    "### Other examples"
   ]
  },
  {
   "cell_type": "code",
   "execution_count": 39,
   "id": "2bdb47fe-db24-4460-820e-e6acec8bac21",
   "metadata": {},
   "outputs": [
    {
     "name": "stdout",
     "output_type": "stream",
     "text": [
      "A missing spoon sets four families on a frantic hunt for answers as they unearth a mind-bending mystery that spans three generations.\n"
     ]
    }
   ],
   "source": [
    "print(dark_descr)"
   ]
  },
  {
   "cell_type": "code",
   "execution_count": 40,
   "id": "6ea5f854-6540-4e33-abb0-23e1ad90ec68",
   "metadata": {},
   "outputs": [
    {
     "data": {
      "text/plain": [
       "['missing', 'mind', 'mystery']"
      ]
     },
     "execution_count": 40,
     "metadata": {},
     "output_type": "execute_result"
    }
   ],
   "source": [
    "# Extract the whole words that start with \"m\"\n",
    "re.findall(r\"\\bm\\w+\", dark_descr)"
   ]
  },
  {
   "cell_type": "code",
   "execution_count": 41,
   "id": "760afc86-5772-480e-9282-6b46cf9ca750",
   "metadata": {},
   "outputs": [
    {
     "data": {
      "text/plain": [
       "'______ missing ______ ______ ______ ______ ______ ______ ______ ______ ______ ______ ______ ______ ______ ______ mind-______ mystery ______ ______ ______ ______.'"
      ]
     },
     "execution_count": 41,
     "metadata": {},
     "output_type": "execute_result"
    }
   ],
   "source": [
    "# Replace all the words not starting with \"m\" with ______\n",
    "re.sub(r\"\\b(?!m)\\w+\", \"______\", dark_descr)\n",
    "# More information in https://docs.python.org/3/library/re.html"
   ]
  },
  {
   "cell_type": "code",
   "execution_count": 42,
   "id": "c8640148-80af-4d41-a770-c2bcfab45077",
   "metadata": {},
   "outputs": [
    {
     "data": {
      "text/plain": [
       "'A ______ spoon sets four families on a frantic hunt for answers as they unearth a ______-bending ______ that spans three generations.'"
      ]
     },
     "execution_count": 42,
     "metadata": {},
     "output_type": "execute_result"
    }
   ],
   "source": [
    "# CHALLENGE: how can I avoid replacing mind-bending for mind-______\n",
    "# This editor can help you on this task!\n",
    "# https://www.debuggex.com/r/E7N3Sscav7q9eFw1\n",
    "re.sub(r\"(\\b(m\\w*)|(m\\w*[-']\\w*)\\b)\", \"______\", dark_descr)"
   ]
  }
 ],
 "metadata": {
  "kernelspec": {
   "display_name": "Python 3",
   "language": "python",
   "name": "python3"
  },
  "language_info": {
   "codemirror_mode": {
    "name": "ipython",
    "version": 3
   },
   "file_extension": ".py",
   "mimetype": "text/x-python",
   "name": "python",
   "nbconvert_exporter": "python",
   "pygments_lexer": "ipython3",
   "version": "3.8.8"
  }
 },
 "nbformat": 4,
 "nbformat_minor": 5
}
